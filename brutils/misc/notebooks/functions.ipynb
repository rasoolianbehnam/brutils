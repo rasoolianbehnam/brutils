{
 "cells": [
  {
   "cell_type": "code",
   "execution_count": null,
   "outputs": [],
   "source": [
    "import random\n",
    "import joblib\n",
    "import operator\n",
    "import functools\n",
    "import collections\n",
    "import itertools\n",
    "import os, sys\n",
    "import pandas as pd\n",
    "import numpy as np\n",
    "import scipy as sp\n",
    "from scipy import stats\n",
    "import seaborn as sns\n",
    "import seaborn as sn\n",
    "import matplotlib.pyplot as plt\n",
    "from functools import reduce\n",
    "from functools import partial\n",
    "from datetime import datetime\n",
    "from datetime import timedelta\n",
    "import time\n",
    "import scipy\n",
    "from pathlib import Path\n",
    "import datetime as dt\n",
    "import math"
   ],
   "metadata": {
    "collapsed": false,
    "pycharm": {
     "name": "#%%\n"
    }
   }
  },
  {
   "cell_type": "code",
   "execution_count": null,
   "outputs": [],
   "source": [
    "import brutils.imports.magic\n",
    "import brutils.imports.implicits\n",
    "import brutils.utility as ut\n",
    "ut.custom_matplotlib_style((12, 5))"
   ],
   "metadata": {
    "collapsed": false,
    "pycharm": {
     "name": "#%%\n"
    }
   }
  },
  {
   "cell_type": "code",
   "execution_count": 3,
   "outputs": [],
   "source": [
    "class Aws:\n",
    "    begin = \"aws s3 --profile atv\"\n",
    "    @staticmethod\n",
    "    def ls(path):\n",
    "        !{Aws.begin} ls {path}\n",
    "\n",
    "    @staticmethod\n",
    "    def rmdir(path):\n",
    "        !{Aws.begin} rm --recursive {path}\n",
    "\n",
    "    @staticmethod\n",
    "    def rm(path):\n",
    "        !{Aws.begin} rm {path}"
   ],
   "metadata": {
    "collapsed": false,
    "pycharm": {
     "name": "#%%\n"
    }
   }
  }
 ],
 "metadata": {
  "hide_input": false,
  "kernelspec": {
   "display_name": "brutils",
   "language": "python",
   "name": "brutils"
  },
  "language_info": {
   "codemirror_mode": {
    "name": "ipython",
    "version": 3
   },
   "file_extension": ".py",
   "mimetype": "text/x-python",
   "name": "python",
   "nbconvert_exporter": "python",
   "pygments_lexer": "ipython3",
   "version": "3.7.10"
  },
  "notify_time": "10",
  "toc": {
   "base_numbering": 1,
   "nav_menu": {},
   "number_sections": true,
   "sideBar": true,
   "skip_h1_title": false,
   "title_cell": "Table of Contents",
   "title_sidebar": "Contents",
   "toc_cell": false,
   "toc_position": {
    "height": "calc(100% - 180px)",
    "left": "10px",
    "top": "150px",
    "width": "262px"
   },
   "toc_section_display": true,
   "toc_window_display": true
  }
 },
 "nbformat": 4,
 "nbformat_minor": 5
}