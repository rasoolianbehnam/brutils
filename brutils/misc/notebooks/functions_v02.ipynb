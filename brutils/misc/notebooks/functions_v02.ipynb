{
 "cells": [
  {
   "cell_type": "code",
   "execution_count": null,
   "id": "490ba182",
   "metadata": {
    "collapsed": false,
    "deletable": true,
    "editable": true,
    "frozen": false,
    "jupyter": {
     "outputs_hidden": false
    },
    "pycharm": {
     "name": "#%%\n"
    }
   },
   "outputs": [],
   "source": [
    "import random\n",
    "import joblib\n",
    "import operator\n",
    "import functools\n",
    "import collections\n",
    "import itertools\n",
    "import os, sys\n",
    "import pandas as pd\n",
    "import numpy as np\n",
    "import scipy as sp\n",
    "from scipy import stats\n",
    "import seaborn as sns\n",
    "import seaborn as sn\n",
    "import matplotlib.pyplot as plt\n",
    "from functools import reduce\n",
    "from functools import partial\n",
    "from datetime import datetime\n",
    "from datetime import timedelta\n",
    "import time\n",
    "import scipy\n",
    "from pathlib import Path\n",
    "import datetime as dt\n",
    "import math"
   ]
  },
  {
   "cell_type": "code",
   "execution_count": null,
   "id": "c196ee70",
   "metadata": {
    "collapsed": false,
    "deletable": true,
    "editable": true,
    "frozen": false,
    "jupyter": {
     "outputs_hidden": false
    },
    "pycharm": {
     "name": "#%%\n"
    }
   },
   "outputs": [],
   "source": [
    "import brutils.imports.magic\n",
    "import brutils.imports.implicits\n",
    "import brutils.utility as ut\n",
    "ut.custom_matplotlib_style((12, 5))"
   ]
  },
  {
   "cell_type": "code",
   "execution_count": 3,
   "id": "fc7281e1",
   "metadata": {
    "deletable": true,
    "editable": true,
    "frozen": false,
    "pycharm": {
     "name": "#%%\n"
    }
   },
   "outputs": [],
   "source": [
    "class Aws:\n",
    "    begin = \"aws s3 --profile atv\"\n",
    "    @staticmethod\n",
    "    def ls(path):\n",
    "        !{Aws.begin} ls {path}\n",
    "\n",
    "    @staticmethod\n",
    "    def rmdir(path):\n",
    "        !{Aws.begin} rm --recursive {path}\n",
    "\n",
    "    @staticmethod\n",
    "    def rm(path):\n",
    "        !{Aws.begin} rm {path}"
   ]
  },
  {
   "cell_type": "code",
   "execution_count": 1,
   "id": "ee5d40d7-2b49-4df3-98cf-ba223fdc73ca",
   "metadata": {
    "deletable": true,
    "editable": true,
    "execution": {
     "iopub.execute_input": "2024-02-29T15:09:02.871897Z",
     "iopub.status.busy": "2024-02-29T15:09:02.871232Z",
     "iopub.status.idle": "2024-02-29T15:09:02.886809Z",
     "shell.execute_reply": "2024-02-29T15:09:02.886208Z",
     "shell.execute_reply.started": "2024-02-29T15:09:02.871867Z"
    },
    "frozen": false
   },
   "outputs": [
    {
     "data": {
      "application/desktop-notify+json": {
       "id": "163ce11b-63be-4d1a-beda-9d41d8df62fa",
       "isProcessed": true,
       "payload": {
        "title": null
       },
       "type": "INIT"
      },
      "text/plain": [
       "<jupyterlab_notify.magics._Notification at 0x7fb98660a4b0>"
      ]
     },
     "metadata": {},
     "output_type": "display_data"
    },
    {
     "name": "stdout",
     "output_type": "stream",
     "text": [
      "Created `%%s` as an alias for `%%notify -s blah -t -1`.\n"
     ]
    }
   ],
   "source": [
    "%load_ext jupyterlab_notify\n",
    "%notify_all -t 3600\n",
    "%alias_magic s notify --params \"-s blah -t -1\"\n",
    "%alias_magic S notify --params \"-s blah -t -1\""
   ]
  },
  {
   "cell_type": "code",
   "execution_count": null,
   "id": "29467c41-3fb4-41a7-ad69-fe037ca4a322",
   "metadata": {
    "deletable": true,
    "editable": true,
    "frozen": false
   },
   "outputs": [],
   "source": []
  }
 ],
 "metadata": {
  "hide_input": false,
  "kernelspec": {
   "display_name": "brutils",
   "language": "python",
   "name": "brutils"
  },
  "language_info": {
   "codemirror_mode": {
    "name": "ipython",
    "version": 3
   },
   "file_extension": ".py",
   "mimetype": "text/x-python",
   "name": "python",
   "nbconvert_exporter": "python",
   "pygments_lexer": "ipython3",
   "version": "3.12.1"
  },
  "notify_time": "10",
  "toc": {
   "base_numbering": 1,
   "nav_menu": {},
   "number_sections": true,
   "sideBar": true,
   "skip_h1_title": false,
   "title_cell": "Table of Contents",
   "title_sidebar": "Contents",
   "toc_cell": false,
   "toc_position": {
    "height": "calc(100% - 180px)",
    "left": "10px",
    "top": "150px",
    "width": "262px"
   },
   "toc_section_display": true,
   "toc_window_display": true
  }
 },
 "nbformat": 4,
 "nbformat_minor": 5
}